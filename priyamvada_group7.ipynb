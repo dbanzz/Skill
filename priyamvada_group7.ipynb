{
  "nbformat": 4,
  "nbformat_minor": 0,
  "metadata": {
    "colab": {
      "provenance": []
    },
    "kernelspec": {
      "name": "python3",
      "display_name": "Python 3"
    },
    "language_info": {
      "name": "python"
    }
  },
  "cells": [
    {
      "cell_type": "code",
      "source": [
        "# Week 1\n",
        "\n",
        "import pandas as pd\n",
        "import matplotlib.pyplot as plt\n",
        "\n",
        "\n",
        "df = pd.read_csv('/content/drive/MyDrive/articles.BACE1.csv')\n",
        "journal_counts = df.groupby('Journal')['Title'].count().reset_index()\n",
        "journal_counts = journal_counts.sort_values(by='Title', ascending=False)\n",
        "ax = plt.subplot()\n",
        "\n",
        "top_n = 10\n",
        "top_journals = journal_counts.head(top_n)\n",
        "plt.figure(figsize=(20, 6))\n",
        "ax.bar(top_journals['Journal'], top_journals['Title'], color='skyblue')\n",
        "ax.set_xlabel('Journal')\n",
        "ax.set_ylabel('Number of Papers Published')\n",
        "ax.set_title('Number of Papers Published in Each Journal')\n",
        "ax.set_xticks()\n",
        "ax.set_xticklabels( top_journals['Journal'], rotation=45)\n",
        "plt.show()"
      ],
      "metadata": {
        "id": "aVVhn0Q_bsHm"
      },
      "execution_count": null,
      "outputs": []
    },
    {
      "cell_type": "code",
      "execution_count": null,
      "metadata": {
        "id": "beykQBqWaKtk"
      },
      "outputs": [],
      "source": [
        "# Week 2\n",
        "\n",
        "import pandas as pd\n",
        "import matplotlib.pyplot as plt\n",
        "import numpy as np\n",
        "\n",
        "\n",
        "df_counts = pd.read_csv('/content/drive/MyDrive/articles.BACE1.csv')\n",
        "journal_counts = df_counts.groupby('Journal')['Title'].count().reset_index()\n",
        "journal_counts = journal_counts.sort_values(by='Title', ascending=False)\n",
        "top_n = 10\n",
        "top_journals_counts = journal_counts.head(top_n)\n",
        "\n",
        "top_journals_counts = top_journals_counts.replace(['The Journal of neuroscience : the official journal of the Society for Neuroscience'], ['The Journal of neuroscience'])\n",
        "data1 = {'Journal': [\"The Journal of biological chemistry\",\n",
        "                    \"Journal of Alzheimer's disease : JAD\",\n",
        "                    \"PloS one\",\n",
        "                    \"Bioorganic & medicinal chemistry letters\",\n",
        "                    \"Journal of neurochemistry\",\n",
        "                    \"Journal of medicinal chemistry\",\n",
        "                    \"Neuroscience letters\",\n",
        "                    \"Neurobiology of aging\",\n",
        "                    \"Current Alzheimer research\",\n",
        "                    \"The Journal of neuroscience\"],\n",
        "        'Impact Factor': [5.486, 4.0, 3.7, 3.461, 5.546, 8.039, 3.197, 4.2, 3.047, 5.3]}\n",
        "\n",
        "df_impact_factor = pd.DataFrame(data1)\n",
        "\n",
        "df_impact_factor = df_impact_factor.sort_values(by='Impact Factor', ascending=False)\n",
        "df_impact_factor = df_impact_factor.set_index('Journal')\n",
        "df_impact_factor = df_impact_factor.reindex(top_journals_counts['Journal'])\n",
        "df_impact_factor = df_impact_factor.reset_index()\n",
        "\n",
        "\n",
        "fig, ax1 = plt.subplots(figsize=(15, 10))\n",
        "\n",
        "bar_width = 0.4\n",
        "bar_positions_1 = np.arange(len(top_journals_counts['Journal']))\n",
        "ax1.bar(bar_positions_1, top_journals_counts['Title'], width=bar_width, color='skyblue', label='Number of Papers')\n",
        "\n",
        "ax2 = ax1.twinx()  # Create a twin Axes sharing the xaxis\n",
        "bar_positions_2 = np.arange(len(df_impact_factor['Journal'])) + bar_width\n",
        "ax2.bar(bar_positions_2, df_impact_factor['Impact Factor'], width=bar_width, color='orange', label='Impact Factor')\n",
        "\n",
        "ax1.set_xticks(bar_positions_1 + bar_width / 2)\n",
        "ax1.set_xticklabels(top_journals_counts['Journal'], rotation=45, ha='right',fontsize=14)\n",
        "ax1.set_xlabel('Journal',fontsize=14)\n",
        "ax1.set_ylabel('Number of Papers Published', color='blue',fontsize=14)\n",
        "ax1.tick_params(axis='y', labelcolor='blue',labelsize=14)\n",
        "\n",
        "ax2.set_ylabel('Impact Factor', color='orange',fontsize=14)\n",
        "ax2.tick_params(axis='y', labelcolor='orange',labelsize=12)\n",
        "\n",
        "\n",
        "plt.title('Comparison of Number of Papers and Impact Factors in Journals')\n",
        "plt.tight_layout()\n",
        "plt.show()"
      ]
    }
  ]
}
